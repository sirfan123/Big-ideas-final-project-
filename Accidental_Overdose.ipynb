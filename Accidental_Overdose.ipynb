{
 "cells": [
  {
   "cell_type": "markdown",
   "metadata": {},
   "source": [
    "# Metric #1:  Accidental Overdoses \n",
    "## Danish Ghumman\n"
   ]
  },
  {
   "cell_type": "markdown",
   "metadata": {},
   "source": [
    "https://data.wprdc.org/dataset/allegheny-county-fatal-accidental-overdoses"
   ]
  },
  {
   "cell_type": "code",
   "execution_count": 4,
   "metadata": {},
   "outputs": [],
   "source": [
    "# all imports needed \n",
    "import pandas as pd\n",
    "import numpy as np\n",
    "import geopandas\n",
    "%matplotlib inline\n",
    "import matplotlib.pyplot as plt\n",
    "\n"
   ]
  },
  {
   "cell_type": "code",
   "execution_count": 19,
   "metadata": {},
   "outputs": [],
   "source": [
    "# Importing Data\n",
    "fatalfile=pd.read_csv(\"fatal_overdoses.csv\")\n",
    "\n",
    "fatalfile.head(10)\n",
    "\n",
    "fatal_in_neighborhood = dict()\n",
    "\n",
    "for index, row in fatalfile.iterrows():\n",
    "    fatal = row['manner_of_death']\n"
   ]
  },
  {
   "cell_type": "code",
   "execution_count": 20,
   "metadata": {},
   "outputs": [
    {
     "data": {
      "text/plain": [
       "15210    329\n",
       "15212    270\n",
       "15136    199\n",
       "15132    187\n",
       "15235    179\n",
       "15216    168\n",
       "15221    158\n",
       "15227    158\n",
       "15206    142\n",
       "15205    138\n",
       "Name: incident_zip, dtype: int64"
      ]
     },
     "execution_count": 20,
     "metadata": {},
     "output_type": "execute_result"
    }
   ],
   "source": [
    "#creating a small table of zipcode and amount of deaths per zipcode\n",
    "typeOf = fatalfile['incident_zip'].value_counts()\n",
    "\n",
    "typeOf.head(10)\n",
    "\n"
   ]
  },
  {
   "cell_type": "code",
   "execution_count": 11,
   "metadata": {},
   "outputs": [
    {
     "data": {
      "image/png": "[encoded data removed]",
      "text/plain": [
       "<Figure size 432x288 with 1 Axes>"
      ]
     },
     "metadata": {
      "needs_background": "light"
     },
     "output_type": "display_data"
    }
   ],
   "source": [
    "\n",
    "# creating a graph of the same data \n",
    "# Load the data from CSV file\n",
    "data = pd.read_csv('fatal_overdoses.csv')\n",
    "\n",
    "# Filter data to only include adult overdose cases\n",
    "adult_data = data[data[\"age\"] >= 25]\n",
    "\n",
    "# Group data by zipcode and count the number of cases\n",
    "zipcode_data = adult_data.groupby(\"incident_zip\")[\"incident_zip\"].count().reset_index(name='Overdose Cases')\n",
    "\n",
    "# Create a bar plot of the data\n",
    "plt.bar(zipcode_data[\"incident_zip\"], zipcode_data[\"Overdose Cases\"])\n",
    "plt.xlabel(\"Zipcode\")\n",
    "plt.ylabel(\"Number of Overdoses\")\n",
    "plt.title(\"Number of Adult Overdoses by Zipcode\")\n",
    "plt.show()\n"
   ]
  },
  {
   "cell_type": "code",
   "execution_count": null,
   "metadata": {},
   "outputs": [],
   "source": []
  }
 ],
 "metadata": {
  "kernelspec": {
   "display_name": "Python 3",
   "language": "python",
   "name": "python3"
  },
  "language_info": {
   "codemirror_mode": {
    "name": "ipython",
    "version": 3
   },
   "file_extension": ".py",
   "mimetype": "text/x-python",
   "name": "python",
   "nbconvert_exporter": "python",
   "pygments_lexer": "ipython3",
   "version": "3.8.3"
  }
 },
 "nbformat": 4,
 "nbformat_minor": 4
}
